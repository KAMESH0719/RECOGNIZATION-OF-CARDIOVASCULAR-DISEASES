{
 "cells": [
  {
   "cell_type": "markdown",
   "id": "kOll_fno3Yat",
   "metadata": {
    "id": "kOll_fno3Yat"
   },
   "source": [
    "# Image Preprocessing"
   ]
  },
  {
   "cell_type": "markdown",
   "id": "tW59gsm_2EJa",
   "metadata": {
    "id": "tW59gsm_2EJa"
   },
   "source": [
    "Importing Image Data Generator Library"
   ]
  },
  {
   "cell_type": "code",
   "execution_count": 1,
   "id": "Tu50A-mJ2PrL",
   "metadata": {
    "executionInfo": {
     "elapsed": 3272,
     "status": "ok",
     "timestamp": 1642677032049,
     "user": {
      "displayName": "ANSHUMAN RAINA 19BAI10151",
      "photoUrl": "https://lh3.googleusercontent.com/a-/AOh14GgiGg7Er9kXU2F9L64XvYv5Bv5Oe_Hb0IgP84m4=s64",
      "userId": "02069950647084314499"
     },
     "user_tz": -330
    },
    "id": "Tu50A-mJ2PrL"
   },
   "outputs": [],
   "source": [
    "from keras.preprocessing.image import ImageDataGenerator"
   ]
  },
  {
   "cell_type": "markdown",
   "id": "PsfFl-if2TOy",
   "metadata": {
    "id": "PsfFl-if2TOy"
   },
   "source": [
    "Configure Image datagenerator class"
   ]
  },
  {
   "cell_type": "code",
   "execution_count": 2,
   "id": "kxgV5UjG2dtC",
   "metadata": {
    "executionInfo": {
     "elapsed": 399,
     "status": "ok",
     "timestamp": 1642677034091,
     "user": {
      "displayName": "ANSHUMAN RAINA 19BAI10151",
      "photoUrl": "https://lh3.googleusercontent.com/a-/AOh14GgiGg7Er9kXU2F9L64XvYv5Bv5Oe_Hb0IgP84m4=s64",
      "userId": "02069950647084314499"
     },
     "user_tz": -330
    },
    "id": "kxgV5UjG2dtC"
   },
   "outputs": [],
   "source": [
    "#setting parameter for image data agumentationto the training data\n",
    "train_datagen=ImageDataGenerator(rescale=1./225,shear_range=0.2,zoom_range=0.2,horizontal_flip=True)\n",
    "#image data agumenatation to test dataset\n",
    "test_datagen=ImageDataGenerator(rescale=1./225)"
   ]
  },
  {
   "cell_type": "markdown",
   "id": "TB3nRvlf20DG",
   "metadata": {
    "id": "TB3nRvlf20DG"
   },
   "source": [
    "Applying ImageDataGenerator Functionality to train and test Dataset"
   ]
  },
  {
   "cell_type": "code",
   "execution_count": 3,
   "id": "e156bd18",
   "metadata": {
    "colab": {
     "base_uri": "https://localhost:8080/"
    },
    "executionInfo": {
     "elapsed": 45836,
     "status": "ok",
     "timestamp": 1642677082017,
     "user": {
      "displayName": "ANSHUMAN RAINA 19BAI10151",
      "photoUrl": "https://lh3.googleusercontent.com/a-/AOh14GgiGg7Er9kXU2F9L64XvYv5Bv5Oe_Hb0IgP84m4=s64",
      "userId": "02069950647084314499"
     },
     "user_tz": -330
    },
    "id": "e156bd18",
    "outputId": "a09a10cf-0455-408f-83a6-b96c7239f9fb"
   },
   "outputs": [
    {
     "name": "stdout",
     "output_type": "stream",
     "text": [
      "Found 15341 images belonging to 6 classes.\n",
      "Found 6825 images belonging to 6 classes.\n"
     ]
    }
   ],
   "source": [
    "#performing data agumentation to train the dataset\n",
    "x_train=train_datagen.flow_from_directory(directory=r'C:/Users/MONISH\\Downloads/IBM-PROJECT/2D_arrythmia_classification/data/train',target_size=(64,64),batch_size=32,class_mode='categorical')\n",
    "#performing agumentation to test the dataset\n",
    "x_test=test_datagen.flow_from_directory(directory=r'C:/Users/MONISH/Downloads/IBM-PROJECT/2D_arrythmia_classification/data/test',target_size=(64,64),batch_size=32,class_mode='categorical')\n"
   ]
  },
  {
   "cell_type": "markdown",
   "id": "LnpBXjMy3D46",
   "metadata": {
    "id": "LnpBXjMy3D46"
   },
   "source": [
    "# Model Building"
   ]
  },
  {
   "cell_type": "markdown",
   "id": "ysK7BFgN3RD0",
   "metadata": {
    "id": "ysK7BFgN3RD0"
   },
   "source": [
    "Importing Libraries"
   ]
  },
  {
   "cell_type": "code",
   "execution_count": 9,
   "id": "ols5iJTh1q-P",
   "metadata": {
    "executionInfo": {
     "elapsed": 417,
     "status": "ok",
     "timestamp": 1642677084896,
     "user": {
      "displayName": "ANSHUMAN RAINA 19BAI10151",
      "photoUrl": "https://lh3.googleusercontent.com/a-/AOh14GgiGg7Er9kXU2F9L64XvYv5Bv5Oe_Hb0IgP84m4=s64",
      "userId": "02069950647084314499"
     },
     "user_tz": -330
    },
    "id": "ols5iJTh1q-P"
   },
   "outputs": [],
   "source": [
    "\n",
    "import numpy as np\n",
    "import tensorflow as tf\n",
    "from tensorflow.keras.models import Sequential\n",
    "from tensorflow.keras.layers import Dense,Flatten,Conv2D,MaxPooling2D,Dropout"
   ]
  },
  {
   "cell_type": "code",
   "execution_count": 10,
   "id": "D47DOHPM8-uv",
   "metadata": {
    "executionInfo": {
     "elapsed": 414,
     "status": "ok",
     "timestamp": 1642677088118,
     "user": {
      "displayName": "ANSHUMAN RAINA 19BAI10151",
      "photoUrl": "https://lh3.googleusercontent.com/a-/AOh14GgiGg7Er9kXU2F9L64XvYv5Bv5Oe_Hb0IgP84m4=s64",
      "userId": "02069950647084314499"
     },
     "user_tz": -330
    },
    "id": "D47DOHPM8-uv"
   },
   "outputs": [],
   "source": [
    "model= Sequential()"
   ]
  },
  {
   "cell_type": "markdown",
   "id": "uwK84q-X3vHc",
   "metadata": {
    "id": "uwK84q-X3vHc"
   },
   "source": [
    "Adding CNN Layers"
   ]
  },
  {
   "cell_type": "code",
   "execution_count": 11,
   "id": "9RljNEo531dG",
   "metadata": {
    "executionInfo": {
     "elapsed": 486,
     "status": "ok",
     "timestamp": 1642677090849,
     "user": {
      "displayName": "ANSHUMAN RAINA 19BAI10151",
      "photoUrl": "https://lh3.googleusercontent.com/a-/AOh14GgiGg7Er9kXU2F9L64XvYv5Bv5Oe_Hb0IgP84m4=s64",
      "userId": "02069950647084314499"
     },
     "user_tz": -330
    },
    "id": "9RljNEo531dG"
   },
   "outputs": [],
   "source": [
    "#adding model layer\n",
    "model.add(Conv2D(32,(3,3),input_shape=(64,64,3),activation='relu'))\n",
    "model.add(MaxPooling2D(pool_size=(2,2)))\n",
    "model.add(Conv2D(32,(3,3),activation='relu'))\n",
    "model.add(MaxPooling2D(pool_size=(2,2)))\n",
    "model.add(Flatten())"
   ]
  },
  {
   "cell_type": "markdown",
   "id": "8DbbNiA5397o",
   "metadata": {
    "id": "8DbbNiA5397o"
   },
   "source": [
    "Adding Dense Layers"
   ]
  },
  {
   "cell_type": "code",
   "execution_count": 12,
   "id": "1kYr2efF4AwR",
   "metadata": {
    "colab": {
     "base_uri": "https://localhost:8080/"
    },
    "executionInfo": {
     "elapsed": 654,
     "status": "ok",
     "timestamp": 1642677094849,
     "user": {
      "displayName": "ANSHUMAN RAINA 19BAI10151",
      "photoUrl": "https://lh3.googleusercontent.com/a-/AOh14GgiGg7Er9kXU2F9L64XvYv5Bv5Oe_Hb0IgP84m4=s64",
      "userId": "02069950647084314499"
     },
     "user_tz": -330
    },
    "id": "1kYr2efF4AwR",
    "outputId": "ce7bef72-2a14-4a16-fe2e-ca2719d9c7c2"
   },
   "outputs": [
    {
     "name": "stdout",
     "output_type": "stream",
     "text": [
      "Model: \"sequential_2\"\n",
      "_________________________________________________________________\n",
      " Layer (type)                Output Shape              Param #   \n",
      "=================================================================\n",
      " conv2d (Conv2D)             (None, 62, 62, 32)        896       \n",
      "                                                                 \n",
      " max_pooling2d (MaxPooling2D  (None, 31, 31, 32)       0         \n",
      " )                                                               \n",
      "                                                                 \n",
      " conv2d_1 (Conv2D)           (None, 29, 29, 32)        9248      \n",
      "                                                                 \n",
      " max_pooling2d_1 (MaxPooling  (None, 14, 14, 32)       0         \n",
      " 2D)                                                             \n",
      "                                                                 \n",
      " flatten (Flatten)           (None, 6272)              0         \n",
      "                                                                 \n",
      " dense (Dense)               (None, 32)                200736    \n",
      "                                                                 \n",
      " dense_1 (Dense)             (None, 6)                 198       \n",
      "                                                                 \n",
      "=================================================================\n",
      "Total params: 211,078\n",
      "Trainable params: 211,078\n",
      "Non-trainable params: 0\n",
      "_________________________________________________________________\n"
     ]
    }
   ],
   "source": [
    "model.add(Dense(32))\n",
    "model.add(Dense(6,activation='softmax'))\n",
    "\n",
    "model.summary()"
   ]
  },
  {
   "cell_type": "markdown",
   "id": "m3mTMNe1_2LZ",
   "metadata": {
    "id": "m3mTMNe1_2LZ"
   },
   "source": [
    "Configuring the learning process"
   ]
  },
  {
   "cell_type": "code",
   "execution_count": 13,
   "id": "cU49pXBJ_-mw",
   "metadata": {
    "executionInfo": {
     "elapsed": 412,
     "status": "ok",
     "timestamp": 1642677098513,
     "user": {
      "displayName": "ANSHUMAN RAINA 19BAI10151",
      "photoUrl": "https://lh3.googleusercontent.com/a-/AOh14GgiGg7Er9kXU2F9L64XvYv5Bv5Oe_Hb0IgP84m4=s64",
      "userId": "02069950647084314499"
     },
     "user_tz": -330
    },
    "id": "cU49pXBJ_-mw"
   },
   "outputs": [],
   "source": [
    "model.compile(optimizer='adam',loss='categorical_crossentropy',metrics=['accuracy'])"
   ]
  },
  {
   "cell_type": "markdown",
   "id": "ODFz0IiUACTj",
   "metadata": {
    "id": "ODFz0IiUACTj"
   },
   "source": [
    "Train the Model"
   ]
  },
  {
   "cell_type": "code",
   "execution_count": 14,
   "id": "b-SfMl_ZAHPM",
   "metadata": {
    "colab": {
     "base_uri": "https://localhost:8080/"
    },
    "executionInfo": {
     "elapsed": 6220650,
     "status": "ok",
     "timestamp": 1642683322564,
     "user": {
      "displayName": "ANSHUMAN RAINA 19BAI10151",
      "photoUrl": "https://lh3.googleusercontent.com/a-/AOh14GgiGg7Er9kXU2F9L64XvYv5Bv5Oe_Hb0IgP84m4=s64",
      "userId": "02069950647084314499"
     },
     "user_tz": -330
    },
    "id": "b-SfMl_ZAHPM",
    "outputId": "d2cc46b9-a584-44bd-df54-9702a246a0c4"
   },
   "outputs": [
    {
     "name": "stderr",
     "output_type": "stream",
     "text": [
      "C:\\Users\\MONISH\\AppData\\Local\\Temp\\ipykernel_15600\\2925047980.py:1: UserWarning: `Model.fit_generator` is deprecated and will be removed in a future version. Please use `Model.fit`, which supports generators.\n",
      "  model.fit_generator(generator=x_train,steps_per_epoch = len(x_train), epochs=20, validation_data=x_test,validation_steps = len(x_test))\n"
     ]
    },
    {
     "name": "stdout",
     "output_type": "stream",
     "text": [
      "Epoch 1/20\n",
      "480/480 [==============================] - 64s 125ms/step - loss: 1.2914 - accuracy: 0.5350 - val_loss: 1.1004 - val_accuracy: 0.6607\n",
      "Epoch 2/20\n",
      "480/480 [==============================] - 45s 95ms/step - loss: 0.4270 - accuracy: 0.8713 - val_loss: 0.6204 - val_accuracy: 0.8372\n",
      "Epoch 3/20\n",
      "480/480 [==============================] - 46s 95ms/step - loss: 0.3047 - accuracy: 0.9084 - val_loss: 0.4646 - val_accuracy: 0.8529\n",
      "Epoch 4/20\n",
      "480/480 [==============================] - 45s 94ms/step - loss: 0.2651 - accuracy: 0.9222 - val_loss: 0.4717 - val_accuracy: 0.8746\n",
      "Epoch 5/20\n",
      "480/480 [==============================] - 45s 93ms/step - loss: 0.2356 - accuracy: 0.9327 - val_loss: 0.4257 - val_accuracy: 0.8948\n",
      "Epoch 6/20\n",
      "480/480 [==============================] - 48s 99ms/step - loss: 0.1921 - accuracy: 0.9425 - val_loss: 0.3680 - val_accuracy: 0.8917\n",
      "Epoch 7/20\n",
      "480/480 [==============================] - 45s 94ms/step - loss: 0.1680 - accuracy: 0.9507 - val_loss: 0.4653 - val_accuracy: 0.8642\n",
      "Epoch 8/20\n",
      "480/480 [==============================] - 46s 95ms/step - loss: 0.1459 - accuracy: 0.9564 - val_loss: 0.3510 - val_accuracy: 0.9108\n",
      "Epoch 9/20\n",
      "480/480 [==============================] - 94s 195ms/step - loss: 0.1276 - accuracy: 0.9618 - val_loss: 0.3566 - val_accuracy: 0.9160\n",
      "Epoch 10/20\n",
      "480/480 [==============================] - 55s 114ms/step - loss: 0.1232 - accuracy: 0.9626 - val_loss: 0.3444 - val_accuracy: 0.9034\n",
      "Epoch 11/20\n",
      "480/480 [==============================] - 48s 100ms/step - loss: 0.1161 - accuracy: 0.9650 - val_loss: 0.3563 - val_accuracy: 0.9065\n",
      "Epoch 12/20\n",
      "480/480 [==============================] - 46s 96ms/step - loss: 0.1066 - accuracy: 0.9679 - val_loss: 0.3245 - val_accuracy: 0.9193\n",
      "Epoch 13/20\n",
      "480/480 [==============================] - 90s 188ms/step - loss: 0.1071 - accuracy: 0.9671 - val_loss: 0.4155 - val_accuracy: 0.9165\n",
      "Epoch 14/20\n",
      "480/480 [==============================] - 112s 234ms/step - loss: 0.0964 - accuracy: 0.9703 - val_loss: 0.4853 - val_accuracy: 0.8983\n",
      "Epoch 15/20\n",
      "480/480 [==============================] - 128s 266ms/step - loss: 0.0929 - accuracy: 0.9709 - val_loss: 0.4607 - val_accuracy: 0.8944\n",
      "Epoch 16/20\n",
      "480/480 [==============================] - 95s 199ms/step - loss: 0.0852 - accuracy: 0.9735 - val_loss: 0.3596 - val_accuracy: 0.9158\n",
      "Epoch 17/20\n",
      "480/480 [==============================] - 47s 98ms/step - loss: 0.0872 - accuracy: 0.9726 - val_loss: 0.3471 - val_accuracy: 0.9188\n",
      "Epoch 18/20\n",
      "480/480 [==============================] - 48s 100ms/step - loss: 0.0875 - accuracy: 0.9739 - val_loss: 0.4008 - val_accuracy: 0.9015\n",
      "Epoch 19/20\n",
      "480/480 [==============================] - 47s 98ms/step - loss: 0.0783 - accuracy: 0.9756 - val_loss: 0.4980 - val_accuracy: 0.8904\n",
      "Epoch 20/20\n",
      "480/480 [==============================] - 51s 107ms/step - loss: 0.0760 - accuracy: 0.9751 - val_loss: 0.4721 - val_accuracy: 0.8826\n"
     ]
    },
    {
     "data": {
      "text/plain": [
       "<keras.callbacks.History at 0x28f5ba32cb0>"
      ]
     },
     "execution_count": 14,
     "metadata": {},
     "output_type": "execute_result"
    }
   ],
   "source": [
    "model.fit_generator(generator=x_train,steps_per_epoch = len(x_train), epochs=20, validation_data=x_test,validation_steps = len(x_test))"
   ]
  },
  {
   "cell_type": "markdown",
   "id": "ip8Eu06pCQac",
   "metadata": {
    "id": "ip8Eu06pCQac"
   },
   "source": [
    "Saving the model"
   ]
  },
  {
   "cell_type": "code",
   "execution_count": 16,
   "id": "cMXHWjLQCYsr",
   "metadata": {
    "executionInfo": {
     "elapsed": 430,
     "status": "ok",
     "timestamp": 1642683357696,
     "user": {
      "displayName": "ANSHUMAN RAINA 19BAI10151",
      "photoUrl": "https://lh3.googleusercontent.com/a-/AOh14GgiGg7Er9kXU2F9L64XvYv5Bv5Oe_Hb0IgP84m4=s64",
      "userId": "02069950647084314499"
     },
     "user_tz": -330
    },
    "id": "cMXHWjLQCYsr"
   },
   "outputs": [],
   "source": [
    "model.save('PREDICTION_MODEL.h5')"
   ]
  },
  {
   "cell_type": "markdown",
   "id": "ZmCTw7e5CfhN",
   "metadata": {
    "id": "ZmCTw7e5CfhN"
   },
   "source": [
    "Test the Model"
   ]
  },
  {
   "cell_type": "code",
   "execution_count": 19,
   "id": "7b69ff7b",
   "metadata": {
    "colab": {
     "base_uri": "https://localhost:8080/"
    },
    "executionInfo": {
     "elapsed": 444,
     "status": "ok",
     "timestamp": 1642683362784,
     "user": {
      "displayName": "ANSHUMAN RAINA 19BAI10151",
      "photoUrl": "https://lh3.googleusercontent.com/a-/AOh14GgiGg7Er9kXU2F9L64XvYv5Bv5Oe_Hb0IgP84m4=s64",
      "userId": "02069950647084314499"
     },
     "user_tz": -330
    },
    "id": "7b69ff7b",
    "outputId": "a50ba1bc-4d03-46c9-d580-7300c57d6901"
   },
   "outputs": [
    {
     "name": "stdout",
     "output_type": "stream",
     "text": [
      "1/1 [==============================] - 3s 3s/step\n"
     ]
    },
    {
     "data": {
      "text/plain": [
       "2"
      ]
     },
     "execution_count": 19,
     "metadata": {},
     "output_type": "execute_result"
    }
   ],
   "source": [
    "\n",
    "model=tf.keras.models.load_model(r'C:/Users/MONISH\\Downloads/IBM-PROJECT/2D_arrythmia_classification/Training/PREDICTION_MODEL.H5')\n",
    "img=tf.keras.utils.load_img(r'C:/Users/MONISH\\Downloads/IBM-PROJECT/2D_arrythmia_classification/Flask/uploads/PAC.png',target_size=(64,64))\n",
    "x=tf.keras.utils.img_to_array(img)\n",
    "x=np.expand_dims(x,axis=0)\n",
    "pred = model.predict(x)\n",
    "y_pred=np.argmax(pred)\n",
    "y_pred\n"
   ]
  },
  {
   "cell_type": "code",
   "execution_count": 20,
   "id": "4OEO0jcfqJiz",
   "metadata": {
    "colab": {
     "base_uri": "https://localhost:8080/",
     "height": 35
    },
    "executionInfo": {
     "elapsed": 636,
     "status": "ok",
     "timestamp": 1642683405004,
     "user": {
      "displayName": "ANSHUMAN RAINA 19BAI10151",
      "photoUrl": "https://lh3.googleusercontent.com/a-/AOh14GgiGg7Er9kXU2F9L64XvYv5Bv5Oe_Hb0IgP84m4=s64",
      "userId": "02069950647084314499"
     },
     "user_tz": -330
    },
    "id": "4OEO0jcfqJiz",
    "outputId": "0cb71e55-ce7c-45c7-e96a-bc7eb0e80a88"
   },
   "outputs": [
    {
     "data": {
      "text/plain": [
       "'Premature Atrial Contraction'"
      ]
     },
     "execution_count": 20,
     "metadata": {},
     "output_type": "execute_result"
    }
   ],
   "source": [
    "index=['left Bundle Branch block','Normal','Premature Atrial Contraction','Premature Ventricular Contraction','Right Bundle Branch Block','Ventricular Fibrillation']\n",
    "result = str(index[y_pred])\n",
    "result"
   ]
  },
  {
   "cell_type": "code",
   "execution_count": null,
   "id": "c9acb949",
   "metadata": {},
   "outputs": [],
   "source": []
  }
 ],
 "metadata": {
  "colab": {
   "collapsed_sections": [],
   "name": "ECG arrhythmia classification.ipynb",
   "provenance": []
  },
  "kernelspec": {
   "display_name": "Python 3.10.7 64-bit",
   "language": "python",
   "name": "python3"
  },
  "language_info": {
   "codemirror_mode": {
    "name": "ipython",
    "version": 3
   },
   "file_extension": ".py",
   "mimetype": "text/x-python",
   "name": "python",
   "nbconvert_exporter": "python",
   "pygments_lexer": "ipython3",
   "version": "3.10.7"
  },
  "vscode": {
   "interpreter": {
    "hash": "b33a71597ed389fdca2ed14539482dc625d4dba4a55c129944fe34f2e16f73d5"
   }
  }
 },
 "nbformat": 4,
 "nbformat_minor": 5
}
